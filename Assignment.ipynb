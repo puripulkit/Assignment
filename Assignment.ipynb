{
 "cells": [
  {
   "cell_type": "code",
   "execution_count": 1,
   "metadata": {},
   "outputs": [
    {
     "name": "stdout",
     "output_type": "stream",
     "text": [
      "2022-06-03\n",
      "11:48:19.330639\n",
      "2022-06-03 11:48:19.330639\n"
     ]
    }
   ],
   "source": [
    "#1. Write a Python program to display the current date and time\n",
    "import datetime \n",
    "print(datetime.datetime.now().date())\t#for current date \n",
    "print(datetime.datetime.now().time())\t#for current time \n",
    "print(datetime.datetime.now())"
   ]
  },
  {
   "cell_type": "code",
   "execution_count": 2,
   "metadata": {},
   "outputs": [
    {
     "name": "stdout",
     "output_type": "stream",
     "text": [
      "1,2,3,4,7,8,9\n",
      "List is: [1, 2, 3, 4, 7, 8, 9]\n",
      "Tuple is: (1, 2, 3, 4, 7, 8, 9)\n"
     ]
    }
   ],
   "source": [
    "#2. Write a Python program which accepts a sequence of comma-separated numbers from user and\n",
    "#   generate a list and a tuple with those number\n",
    "num = [int(x) for x in input().split(',')]\n",
    "print(\"List is: \"+str(num))\n",
    "print(\"Tuple is: \"+str(tuple(num)))"
   ]
  },
  {
   "cell_type": "code",
   "execution_count": 3,
   "metadata": {},
   "outputs": [
    {
     "name": "stdout",
     "output_type": "stream",
     "text": [
      "first color: Red\n",
      "last color: Black\n"
     ]
    }
   ],
   "source": [
    " #3. Write a Python program to display the first and last colors from the following list.\n",
    "color_list = [\"Red\",\"Green\",\"White\" ,\"Black\"]\n",
    "print(\"first color: \"+str(color_list[0]))\n",
    "print(\"last color: \"+str(color_list[-1]))"
   ]
  },
  {
   "cell_type": "code",
   "execution_count": 4,
   "metadata": {},
   "outputs": [
    {
     "name": "stdout",
     "output_type": "stream",
     "text": [
      "True\n",
      "False\n"
     ]
    }
   ],
   "source": [
    "#4. Write a Python program to test whether a number is within 100 of 1000 or 2000.\n",
    "def check(n):\n",
    "    return ((abs(1000 - n) <= 100) or (abs(2000 - n) <= 100))\n",
    "print(check(1050))\n",
    "print(check(2101))"
   ]
  },
  {
   "cell_type": "code",
   "execution_count": 5,
   "metadata": {},
   "outputs": [
    {
     "name": "stdout",
     "output_type": "stream",
     "text": [
      "2\n",
      "4\n",
      "6\n",
      "8\n",
      "10\n",
      "12\n",
      "14\n",
      "16\n",
      "18\n"
     ]
    }
   ],
   "source": [
    "#5. Write a Python program to print all even numbers\n",
    "for num in range(2,20,2):\n",
    "    print(num)"
   ]
  },
  {
   "cell_type": "code",
   "execution_count": 6,
   "metadata": {},
   "outputs": [],
   "source": [
    "#6. Write a Python program to get the difference between the two lists.\n"
   ]
  },
  {
   "cell_type": "code",
   "execution_count": 7,
   "metadata": {},
   "outputs": [
    {
     "name": "stdout",
     "output_type": "stream",
     "text": [
      "[10, 11, 12]\n"
     ]
    }
   ],
   "source": [
    "#7. Write a Python program to find the list in a list of lists whose sum of elements is the highest.\n",
    "list1 = [[1,2,3], [4,5,6], [10,11,12], [7,8,9]]\n",
    "print(max(list1, key=sum))"
   ]
  },
  {
   "cell_type": "code",
   "execution_count": 8,
   "metadata": {},
   "outputs": [
    {
     "name": "stdout",
     "output_type": "stream",
     "text": [
      "[22.4, 4.0, -16.22, -9.1, 11.0, -12.22, 14.2, -5.2, 17.5]\n",
      "243\n"
     ]
    }
   ],
   "source": [
    "#8. Write a Python program to round every number of a given list of numbers and \n",
    "#   print the total sum multiplied by the length of the list.\n",
    "Original_list = [22.4, 4.0, -16.22, -9.1, 11.0, -12.22, 14.2, -5.2, 17.5]\n",
    "print(Original_list)\n",
    "lenght=len(Original_list)\n",
    "print(sum(list(map(round,Original_list))* lenght))"
   ]
  },
  {
   "cell_type": "code",
   "execution_count": 9,
   "metadata": {},
   "outputs": [
    {
     "name": "stdout",
     "output_type": "stream",
     "text": [
      "Original list:\n",
      "['red', 'green', 'blue', 'white', 'black', 'orange']\n",
      "\n",
      "Remove words:\n",
      "['white', 'orange']\n",
      "\n",
      "After removing the specified words from the said list:\n",
      "['red', 'green', 'blue', 'black']\n"
     ]
    }
   ],
   "source": [
    "#9. Write a Python program to remove specific words from a given list.\n",
    "def remove_words(list1, remove_words):\n",
    "    for word in list(list1):\n",
    "        if word in remove_words:\n",
    "            list1.remove(word)\n",
    "    return list1        \n",
    "colors = ['red', 'green', 'blue', 'white', 'black', 'orange']\n",
    "remove_colors = ['white', 'orange']\n",
    "print(\"Original list:\")\n",
    "print(colors)\n",
    "print(\"\\nRemove words:\")\n",
    "print(remove_colors)\n",
    "print(\"\\nAfter removing the specified words from the said list:\")\n",
    "print(remove_words(colors, remove_colors))"
   ]
  },
  {
   "cell_type": "code",
   "execution_count": 10,
   "metadata": {},
   "outputs": [
    {
     "name": "stdout",
     "output_type": "stream",
     "text": [
      "{1: 10, 2: 20, 3: 30, 4: 40, 5: 50, 6: 60}\n"
     ]
    }
   ],
   "source": [
    "#10. Write a Python script to concatenate following dictionaries to create a new one.\n",
    "dic1={1:10, 2:20}\n",
    "dic2={3:30, 4:40}\n",
    "dic3={5:50, 6:60}\n",
    "dic4 = {}\n",
    "for i in (dic1, dic2, dic3):\n",
    "    dic4.update(i)\n",
    "print(dic4)"
   ]
  },
  {
   "cell_type": "code",
   "execution_count": 11,
   "metadata": {},
   "outputs": [
    {
     "name": "stdout",
     "output_type": "stream",
     "text": [
      "6\n"
     ]
    }
   ],
   "source": [
    "#11. Write a Python program to multiply all the items in a dictionary\n",
    "dict1 = {'a': 1,'b': 2,'c': 3}\n",
    "ans = 1\n",
    "for i in dict1:\n",
    "    ans = ans*dict1[i]\n",
    "print(ans)"
   ]
  },
  {
   "cell_type": "code",
   "execution_count": 12,
   "metadata": {},
   "outputs": [
    {
     "name": "stdout",
     "output_type": "stream",
     "text": [
      "4th element is: 4\n",
      "4th element from last is: 5\n"
     ]
    }
   ],
   "source": [
    "#12.  Write a Python program to get the 4th element and 4th element from last of a tuple.\n",
    "tuple1 = (1,2,3,4,5,6,7,8)\n",
    "print(\"4th element is: \"+str(tuple1[3]))\n",
    "print(\"4th element from last is: \"+str(tuple1[-4]))"
   ]
  },
  {
   "cell_type": "code",
   "execution_count": 13,
   "metadata": {},
   "outputs": [],
   "source": [
    "#13.  Write a Python program to convert a tuple to a dictionary."
   ]
  },
  {
   "cell_type": "code",
   "execution_count": 14,
   "metadata": {},
   "outputs": [
    {
     "name": "stdout",
     "output_type": "stream",
     "text": [
      "{'Four', 1, 2, 'Three'}\n",
      "set()\n"
     ]
    }
   ],
   "source": [
    "#14. Write a Python program to remove all elements from a given set.\n",
    "set1 = {1, 2, \"Three\", \"Four\"}\n",
    "print(set1)        \n",
    "set1.clear()\n",
    "print(set1)"
   ]
  },
  {
   "cell_type": "code",
   "execution_count": 15,
   "metadata": {},
   "outputs": [
    {
     "name": "stdout",
     "output_type": "stream",
     "text": [
      "set2 is a superset of set1\n"
     ]
    }
   ],
   "source": [
    "#15. Write a Python program to check if a given set is superset of itself and\n",
    "#    superset of another given set.\n",
    "set2 = {1,2,3,4,5}\n",
    "set3 = {2,3}\n",
    "if set2 > set3:\n",
    "    print(\"set2 is a superset of set1\")"
   ]
  }
 ],
 "metadata": {
  "kernelspec": {
   "display_name": "Python 3",
   "language": "python",
   "name": "python3"
  },
  "language_info": {
   "codemirror_mode": {
    "name": "ipython",
    "version": 3
   },
   "file_extension": ".py",
   "mimetype": "text/x-python",
   "name": "python",
   "nbconvert_exporter": "python",
   "pygments_lexer": "ipython3",
   "version": "3.8.5"
  }
 },
 "nbformat": 4,
 "nbformat_minor": 4
}
